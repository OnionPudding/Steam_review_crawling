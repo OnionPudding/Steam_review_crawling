{
  "nbformat": 4,
  "nbformat_minor": 0,
  "metadata": {
    "colab": {
      "provenance": [],
      "collapsed_sections": []
    },
    "kernelspec": {
      "name": "python3",
      "display_name": "Python 3"
    },
    "language_info": {
      "name": "python"
    }
  },
  "cells": [
    {
      "cell_type": "code",
      "metadata": {
        "colab": {
          "base_uri": "https://localhost:8080/"
        },
        "id": "UlZ3LBD5He2o",
        "outputId": "264f8f14-aee2-4b23-c615-5996c932b4ed"
      },
      "source": [
        "!pip install selenium\n",
        "!apt-get update\n",
        "!apt install chromium-chromedriver"
      ],
      "execution_count": 1,
      "outputs": [
          ]
        }
      ]
    },
    {
      "cell_type": "code",
      "metadata": {
        "id": "uXMzQideQ2SB"
      },
      "source": [
        "import os\n",
        "from selenium import webdriver\n",
        "from selenium.webdriver.common.by import By\n",
        "from selenium.webdriver.chrome.service import Service\n",
        "from bs4 import BeautifulSoup\n",
        "import csv\n",
        "import ssl\n",
        "import re\n",
        "import datetime\n",
        "import time"
      ],
      "execution_count": 18,
      "outputs": []
    },
    {
      "cell_type": "code",
      "metadata": {
        "id": "GhRErXiJS4hq"
      },
      "source": [
        "options = webdriver.ChromeOptions()\n",
        "options.add_argument('--headless')\n",
        "options.add_argument('--no-sandbox')\n",
        "options.add_argument('--disable-dev-shm-usage')"
      ],
      "execution_count": 5,
      "outputs": []
    },
    {
      "cell_type": "code",
      "source": [
        "driver = webdriver.Chrome('chromedriver',options=options)\n",
        "url = \"https://steamcommunity.com/app/730/reviews/\"\n",
        "driver.get(url)"
      ],
      "metadata": {
        "id": "gDreV1n7RWh6"
      },
      "execution_count": 32,
      "outputs": []
    },
    {
      "cell_type": "code",
      "source": [
        "review_array = []\n",
        "start = datetime.datetime.now()\n",
        "end = start + datetime.timedelta(seconds=30)\n",
        "\n",
        "while True:\n",
        "  driver.execute_script(\"window.scrollTo(0, document.body.scrollHeight);\")\n",
        "  time.sleep(1.5)\n",
        "  driver.execute_script(\"window.scrollBy(0, -1);\")\n",
        "  if datetime.datetime.now() > end:\n",
        "    break;\n",
        "\n",
        "html = driver.page_source\n",
        "soup = BeautifulSoup(html, 'html.parser')\n",
        "review_array = []\n",
        "dummy = \"\\n\\t\\t\\t\\t\\t\\t\\t\\t\\t\\t\\t\\t\\t\\t\\t\\t\"\n",
        "list_ = soup.find_all(class_='apphub_CardTextContent', limit = 100000)\n",
        "\n",
        "for i in list_:\n",
        "  review = i.text.strip()\n",
        "  review = BeautifulSoup(review,\"html5lib\").get_text()\n",
        "  review = re.sub(dummy, \"\", review)\n",
        "  temp_list = [review]\n",
        "  review_array.append(temp_list)\n",
        "\n",
        "with open('review.csv', 'w',newline='') as f: \n",
        "    write = csv.writer(f) \n",
        "    write.writerows(review_array) "
      ],
      "metadata": {
        "id": "sq6Iw48STma7"
      },
      "execution_count": 40,
      "outputs": []
    }
  ]
}
